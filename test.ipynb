{
 "cells": [
  {
   "cell_type": "code",
   "execution_count": 5,
   "metadata": {},
   "outputs": [
    {
     "name": "stdout",
     "output_type": "stream",
     "text": [
      "0 weight: [-0.2726718] bias: [0.50454956]\n",
      "10 weight: [-0.03411369] bias: [0.26504847]\n",
      "20 weight: [0.12023262] bias: [0.18880308]\n",
      "30 weight: [0.20327753] bias: [0.14777982]\n",
      "40 weight: [0.2479592] bias: [0.12570758]\n",
      "50 weight: [0.27199984] bias: [0.11383177]\n",
      "60 weight: [0.28493473] bias: [0.10744209]\n",
      "70 weight: [0.29189426] bias: [0.10400416]\n",
      "80 weight: [0.29563877] bias: [0.1021544]\n",
      "90 weight: [0.29765347] bias: [0.10115916]\n",
      "100 weight: [0.29873747] bias: [0.10062368]\n"
     ]
    }
   ],
   "source": [
    "import tensorflow as tf\n",
    "import numpy as np\n",
    "\n",
    "## prepare the original data\n",
    "with tf.name_scope('data'):\n",
    "    x_data = np.random.rand(100).astype(np.float32)\n",
    "    y_data = 0.3 * x_data + 0.1\n",
    "##creat parameters\n",
    "with tf.name_scope('parameters'):\n",
    "    weight = tf.Variable(tf.random_uniform([1], -1.0, 1.0))\n",
    "    bias = tf.Variable(tf.zeros([1]))\n",
    "##get y_prediction\n",
    "with tf.name_scope('y_prediction'):\n",
    "    y_prediction = weight * x_data + bias\n",
    "##compute the loss\n",
    "with tf.name_scope('loss'):\n",
    "    loss = tf.reduce_mean(tf.square(y_data - y_prediction))\n",
    "##creat optimizer\n",
    "optimizer = tf.train.GradientDescentOptimizer(0.5)\n",
    "# creat train ,minimize the loss \n",
    "with tf.name_scope('train'):\n",
    "    train = optimizer.minimize(loss)\n",
    "# creat init\n",
    "with tf.name_scope('init'):\n",
    "    init = tf.global_variables_initializer()\n",
    "##creat a Session \n",
    "sess = tf.Session()\n",
    "##initialize\n",
    "writer = tf.summary.FileWriter(\"logs/\", sess.graph)\n",
    "sess.run(init)\n",
    "## Loop\n",
    "for step in range(101):\n",
    "    sess.run(train)\n",
    "    if step % 10 == 0:\n",
    "        print(step, 'weight:', sess.run(weight), 'bias:', sess.run(bias))"
   ]
  },
  {
   "cell_type": "code",
   "execution_count": null,
   "metadata": {},
   "outputs": [],
   "source": []
  }
 ],
 "metadata": {
  "kernelspec": {
   "display_name": "Python 3",
   "language": "python",
   "name": "python3"
  },
  "language_info": {
   "codemirror_mode": {
    "name": "ipython",
    "version": 3
   },
   "file_extension": ".py",
   "mimetype": "text/x-python",
   "name": "python",
   "nbconvert_exporter": "python",
   "pygments_lexer": "ipython3",
   "version": "3.6.5"
  }
 },
 "nbformat": 4,
 "nbformat_minor": 2
}
